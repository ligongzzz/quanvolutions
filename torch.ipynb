{
 "cells": [
  {
   "cell_type": "code",
   "execution_count": 1,
   "metadata": {},
   "outputs": [],
   "source": [
    "%load_ext autoreload"
   ]
  },
  {
   "cell_type": "code",
   "execution_count": 2,
   "metadata": {},
   "outputs": [],
   "source": [
    "%autoreload 2"
   ]
  },
  {
   "cell_type": "code",
   "execution_count": 3,
   "metadata": {},
   "outputs": [],
   "source": [
    "import pennylane as qml\n",
    "from quanvolution.quanv import TorchQuanvLayer\n",
    "import torch\n",
    "from torch import nn\n",
    "import pennylane as qml\n",
    "from pennylane import numpy as np\n",
    "from pennylane.templates import RandomLayers\n",
    "import torchvision\n",
    "from sklearn.metrics import accuracy_score\n",
    "from tqdm.notebook import tqdm\n",
    "from torchvision import transforms\n",
    "import time\n",
    "from torch.utils.data import Subset\n"
   ]
  },
  {
   "cell_type": "code",
   "execution_count": 4,
   "metadata": {},
   "outputs": [],
   "source": [
    "n_qubits = 4\n",
    "dev2 = qml.device(\"default.qubit\", wires=n_qubits)\n",
    "\n",
    "@qml.qnode(dev2)\n",
    "def parameterised_qnode(inputs, weights):\n",
    "    qml.templates.AngleEmbedding(inputs, wires=range(n_qubits))\n",
    "    qml.templates.BasicEntanglerLayers(weights, wires=range(n_qubits))\n",
    "    return [qml.expval(qml.PauliZ(wires=i)) for i in range(n_qubits)]"
   ]
  },
  {
   "cell_type": "code",
   "execution_count": 5,
   "metadata": {},
   "outputs": [],
   "source": [
    "n_layers=1\n",
    "weight_shapes = {\"weights\": (n_layers, n_qubits)}\n",
    "qnode_layer = qml.qnn.TorchLayer(parameterised_qnode, weight_shapes=weight_shapes)"
   ]
  },
  {
   "cell_type": "code",
   "execution_count": 6,
   "metadata": {},
   "outputs": [
    {
     "name": "stdout",
     "output_type": "stream",
     "text": [
      "60000\n"
     ]
    }
   ],
   "source": [
    "transform = transforms.Compose([\n",
    "    transforms.ToTensor(),\n",
    "])\n",
    "\n",
    "dataset = torchvision.datasets.MNIST(root='./mnist', train=True, download=True, transform=transform)\n",
    "\n",
    "print(len(dataset))\n",
    "\n",
    "train_set, test_set = torch.utils.data.random_split(dataset, [50000, 10000])\n",
    "\n",
    "train_indices = torch.randperm(len(train_set))[:50]\n",
    "test_indices = torch.randperm(len(test_set))[:50]\n",
    "\n",
    "train_set = Subset(train_set, train_indices)\n",
    "test_set = Subset(test_set, test_indices)\n",
    "\n",
    "train_loader = torch.utils.data.DataLoader(dataset=train_set, batch_size=4)\n",
    "test_loader = torch.utils.data.DataLoader(dataset=test_set, batch_size=4)"
   ]
  },
  {
   "cell_type": "code",
   "execution_count": 7,
   "metadata": {},
   "outputs": [],
   "source": [
    "model = torch.nn.Sequential(\n",
    "    TorchQuanvLayer(qnode_layer, kernel_size=(2,2), stride=2, out_channels=4),\n",
    "    TorchQuanvLayer(qnode_layer, kernel_size=(2,2), stride=2, out_channels=16),\n",
    "    torch.nn.Flatten(),\n",
    "    torch.nn.Linear(in_features=7*7*4*4, out_features=10)\n",
    ")"
   ]
  },
  {
   "cell_type": "code",
   "execution_count": 8,
   "metadata": {},
   "outputs": [],
   "source": [
    "optimiser = torch.optim.Adam(params=model.parameters(), lr=0.01)\n",
    "loss_function = torch.nn.CrossEntropyLoss()"
   ]
  },
  {
   "cell_type": "code",
   "execution_count": 9,
   "metadata": {},
   "outputs": [],
   "source": [
    "def run_experiment(model, optimiser, loss_function):\n",
    "    \n",
    "    start = time.time()\n",
    "\n",
    "    for epoch in range(10):\n",
    "        # initiliase epoch loss and predictions for accuracy\n",
    "        cumulative_loss = 0.0\n",
    "        correct_preds = 0\n",
    "        model.train()\n",
    "        for (x, y) in tqdm(train_loader, total=len(train_loader)):\n",
    "\n",
    "            # do the business\n",
    "            optimiser.zero_grad()\n",
    "            outputs = model(x)\n",
    "            # make predictions\n",
    "            _, preds = torch.max(outputs, -1)\n",
    "            loss = loss_function(outputs, y)  \n",
    "            loss.backward()\n",
    "            optimiser.step()\n",
    "\n",
    "            # update loss and predictions\n",
    "            cumulative_loss += loss.item() * x.size(0)\n",
    "            correct_preds += torch.sum(preds == y.data).item()  \n",
    "            \n",
    "        train_epoch_loss = cumulative_loss / len(train_loader.dataset)\n",
    "        train_epoch_acc = correct_preds / len(train_loader.dataset)\n",
    "        \n",
    "        print(f\"Epoch {epoch}: Training Loss {train_epoch_loss} \\n Training Accuracy {train_epoch_acc} \\n Total time elapsed {time.time()-start}\")\n",
    "        \n",
    "        model.eval()\n",
    "        cumulative_val_loss = 0.\n",
    "        correct_val_preds = 0\n",
    "        for (x, y) in tqdm(test_loader, total=len(test_loader)):\n",
    "\n",
    "            # do the business\n",
    "            outputs = model(x)\n",
    "            # make predictions\n",
    "            _, preds = torch.max(outputs, -1)\n",
    "            loss = loss_function(outputs, y)  \n",
    "\n",
    "            # update loss and predictions\n",
    "            cumulative_val_loss += loss.item() * x.size(0)\n",
    "            correct_val_preds += torch.sum(preds == y.data).item()  \n",
    "            \n",
    "        val_epoch_loss = cumulative_val_loss / len(test_loader.dataset)\n",
    "        val_epoch_acc = correct_val_preds / len(test_loader.dataset)\n",
    "        \n",
    "        print(f\"Epoch {epoch}: Validation Loss {val_epoch_loss} \\n Validation Accuracy {val_epoch_acc} \\n Total time elapsed {time.time()-start}\")\n",
    "\n",
    "    return model"
   ]
  },
  {
   "cell_type": "code",
   "execution_count": 10,
   "metadata": {},
   "outputs": [
    {
     "data": {
      "application/vnd.jupyter.widget-view+json": {
       "model_id": "f439b920436f46c1b66e32b2f5f1a3f4",
       "version_major": 2,
       "version_minor": 0
      },
      "text/plain": "  0%|          | 0/13 [00:00<?, ?it/s]"
     },
     "metadata": {
      "transient": {}
     },
     "output_type": "display_data"
    },
    {
     "name": "stdout",
     "output_type": "stream",
     "text": [
      "Epoch 0: Training Loss 5.954254379272461 \n",
      " Training Accuracy 0.06 \n",
      " Total time elapsed 120.21528387069702\n",
      "Epoch 0: Validation Loss 5.042451181411743 \n",
      " Validation Accuracy 0.08 \n",
      " Total time elapsed 141.01002311706543\n",
      "Epoch 1: Training Loss 3.6062935066223143 \n",
      " Training Accuracy 0.1 \n",
      " Total time elapsed 261.5808289051056\n",
      "Epoch 1: Validation Loss 2.356882190704346 \n",
      " Validation Accuracy 0.12 \n",
      " Total time elapsed 281.83162784576416\n",
      "Epoch 2: Training Loss 2.277634105682373 \n",
      " Training Accuracy 0.2 \n",
      " Total time elapsed 403.7272229194641\n",
      "Epoch 2: Validation Loss 2.5129573345184326 \n",
      " Validation Accuracy 0.18 \n",
      " Total time elapsed 424.8608419895172\n",
      "Epoch 3: Training Loss 1.7956696891784667 \n",
      " Training Accuracy 0.46 \n",
      " Total time elapsed 545.1571161746979\n",
      "Epoch 3: Validation Loss 1.6218241548538208 \n",
      " Validation Accuracy 0.44 \n",
      " Total time elapsed 565.7804939746857\n",
      "Epoch 4: Training Loss 1.1628485536575317 \n",
      " Training Accuracy 0.64 \n",
      " Total time elapsed 685.4861679077148\n",
      "Epoch 4: Validation Loss 1.5447039031982421 \n",
      " Validation Accuracy 0.48 \n",
      " Total time elapsed 705.5691800117493\n",
      "Epoch 5: Training Loss 0.9165256881713867 \n",
      " Training Accuracy 0.76 \n",
      " Total time elapsed 825.8542149066925\n",
      "Epoch 5: Validation Loss 1.3164432525634766 \n",
      " Validation Accuracy 0.52 \n",
      " Total time elapsed 846.5354609489441\n",
      "Epoch 6: Training Loss 0.666610268354416 \n",
      " Training Accuracy 0.86 \n",
      " Total time elapsed 966.9192259311676\n",
      "Epoch 6: Validation Loss 1.2121778964996337 \n",
      " Validation Accuracy 0.6 \n",
      " Total time elapsed 987.4280779361725\n",
      "Epoch 7: Training Loss 0.4855091655254364 \n",
      " Training Accuracy 0.9 \n",
      " Total time elapsed 1108.7134771347046\n",
      "Epoch 7: Validation Loss 1.0802320766448974 \n",
      " Validation Accuracy 0.66 \n",
      " Total time elapsed 1129.1755058765411\n",
      "Epoch 8: Training Loss 0.355432630777359 \n",
      " Training Accuracy 0.94 \n",
      " Total time elapsed 1249.3018181324005\n",
      "Epoch 8: Validation Loss 1.029923300743103 \n",
      " Validation Accuracy 0.62 \n",
      " Total time elapsed 1269.3369808197021\n",
      "Epoch 9: Training Loss 0.2739096611738205 \n",
      " Training Accuracy 1.0 \n",
      " Total time elapsed 1389.164675951004\n",
      "Epoch 9: Validation Loss 0.9902167844772339 \n",
      " Validation Accuracy 0.66 \n",
      " Total time elapsed 1409.9213931560516\n"
     ]
    },
    {
     "data": {
      "application/vnd.jupyter.widget-view+json": {
       "model_id": "feeddef533814219a2ea4a014b98cb3e",
       "version_major": 2,
       "version_minor": 0
      },
      "text/plain": "  0%|          | 0/13 [00:00<?, ?it/s]"
     },
     "metadata": {
      "transient": {}
     },
     "output_type": "display_data"
    },
    {
     "data": {
      "application/vnd.jupyter.widget-view+json": {
       "model_id": "a28c448ee3654e0881c9eb10aad9487d",
       "version_major": 2,
       "version_minor": 0
      },
      "text/plain": "  0%|          | 0/13 [00:00<?, ?it/s]"
     },
     "metadata": {
      "transient": {}
     },
     "output_type": "display_data"
    },
    {
     "data": {
      "application/vnd.jupyter.widget-view+json": {
       "model_id": "891fa7c798ac4ff79954dc95b31986d1",
       "version_major": 2,
       "version_minor": 0
      },
      "text/plain": "  0%|          | 0/13 [00:00<?, ?it/s]"
     },
     "metadata": {
      "transient": {}
     },
     "output_type": "display_data"
    },
    {
     "data": {
      "application/vnd.jupyter.widget-view+json": {
       "model_id": "77112e0dfd214b5485b502078adb5ba9",
       "version_major": 2,
       "version_minor": 0
      },
      "text/plain": "  0%|          | 0/13 [00:00<?, ?it/s]"
     },
     "metadata": {
      "transient": {}
     },
     "output_type": "display_data"
    },
    {
     "data": {
      "application/vnd.jupyter.widget-view+json": {
       "model_id": "550ec64261724b4b91d8e1f17adb07a2",
       "version_major": 2,
       "version_minor": 0
      },
      "text/plain": "  0%|          | 0/13 [00:00<?, ?it/s]"
     },
     "metadata": {
      "transient": {}
     },
     "output_type": "display_data"
    },
    {
     "data": {
      "application/vnd.jupyter.widget-view+json": {
       "model_id": "15a9a64dee1c4c5e8f2b7ecdaf6a9cf5",
       "version_major": 2,
       "version_minor": 0
      },
      "text/plain": "  0%|          | 0/13 [00:00<?, ?it/s]"
     },
     "metadata": {
      "transient": {}
     },
     "output_type": "display_data"
    },
    {
     "data": {
      "application/vnd.jupyter.widget-view+json": {
       "model_id": "75351c5ff15b481983aaa3993b3716a6",
       "version_major": 2,
       "version_minor": 0
      },
      "text/plain": "  0%|          | 0/13 [00:00<?, ?it/s]"
     },
     "metadata": {
      "transient": {}
     },
     "output_type": "display_data"
    },
    {
     "data": {
      "application/vnd.jupyter.widget-view+json": {
       "model_id": "6d27d9401d534a4296d76ff87035fb9b",
       "version_major": 2,
       "version_minor": 0
      },
      "text/plain": "  0%|          | 0/13 [00:00<?, ?it/s]"
     },
     "metadata": {
      "transient": {}
     },
     "output_type": "display_data"
    },
    {
     "data": {
      "application/vnd.jupyter.widget-view+json": {
       "model_id": "c6fdc32664854c839a4409bb363f0823",
       "version_major": 2,
       "version_minor": 0
      },
      "text/plain": "  0%|          | 0/13 [00:00<?, ?it/s]"
     },
     "metadata": {
      "transient": {}
     },
     "output_type": "display_data"
    },
    {
     "data": {
      "application/vnd.jupyter.widget-view+json": {
       "model_id": "983292050b01498e902a9aa9d6f83627",
       "version_major": 2,
       "version_minor": 0
      },
      "text/plain": "  0%|          | 0/13 [00:00<?, ?it/s]"
     },
     "metadata": {
      "transient": {}
     },
     "output_type": "display_data"
    },
    {
     "data": {
      "application/vnd.jupyter.widget-view+json": {
       "model_id": "08b46efae90a4947a5927f42453ee3d5",
       "version_major": 2,
       "version_minor": 0
      },
      "text/plain": "  0%|          | 0/13 [00:00<?, ?it/s]"
     },
     "metadata": {
      "transient": {}
     },
     "output_type": "display_data"
    },
    {
     "data": {
      "application/vnd.jupyter.widget-view+json": {
       "model_id": "0bfddde2a0c541c99f8929cf6b19051b",
       "version_major": 2,
       "version_minor": 0
      },
      "text/plain": "  0%|          | 0/13 [00:00<?, ?it/s]"
     },
     "metadata": {
      "transient": {}
     },
     "output_type": "display_data"
    },
    {
     "data": {
      "application/vnd.jupyter.widget-view+json": {
       "model_id": "f436aa6f1dac450aa4fb7661d4ffe337",
       "version_major": 2,
       "version_minor": 0
      },
      "text/plain": "  0%|          | 0/13 [00:00<?, ?it/s]"
     },
     "metadata": {
      "transient": {}
     },
     "output_type": "display_data"
    },
    {
     "data": {
      "application/vnd.jupyter.widget-view+json": {
       "model_id": "e335e5036f95438396ff7dc5ea4a1621",
       "version_major": 2,
       "version_minor": 0
      },
      "text/plain": "  0%|          | 0/13 [00:00<?, ?it/s]"
     },
     "metadata": {
      "transient": {}
     },
     "output_type": "display_data"
    },
    {
     "data": {
      "application/vnd.jupyter.widget-view+json": {
       "model_id": "7bcf624a13f44f92a40bded2f49b061a",
       "version_major": 2,
       "version_minor": 0
      },
      "text/plain": "  0%|          | 0/13 [00:00<?, ?it/s]"
     },
     "metadata": {
      "transient": {}
     },
     "output_type": "display_data"
    },
    {
     "data": {
      "application/vnd.jupyter.widget-view+json": {
       "model_id": "83ee84bd631843aca3136be43d9be896",
       "version_major": 2,
       "version_minor": 0
      },
      "text/plain": "  0%|          | 0/13 [00:00<?, ?it/s]"
     },
     "metadata": {
      "transient": {}
     },
     "output_type": "display_data"
    },
    {
     "data": {
      "application/vnd.jupyter.widget-view+json": {
       "model_id": "30e81be4d49a4320aad683b48a52491a",
       "version_major": 2,
       "version_minor": 0
      },
      "text/plain": "  0%|          | 0/13 [00:00<?, ?it/s]"
     },
     "metadata": {
      "transient": {}
     },
     "output_type": "display_data"
    },
    {
     "data": {
      "application/vnd.jupyter.widget-view+json": {
       "model_id": "36c8d95cf85e4bb3b3c70ff4f682345d",
       "version_major": 2,
       "version_minor": 0
      },
      "text/plain": "  0%|          | 0/13 [00:00<?, ?it/s]"
     },
     "metadata": {
      "transient": {}
     },
     "output_type": "display_data"
    },
    {
     "data": {
      "application/vnd.jupyter.widget-view+json": {
       "model_id": "f3a9fc8357e84a55bd01c7c1c58e092b",
       "version_major": 2,
       "version_minor": 0
      },
      "text/plain": "  0%|          | 0/13 [00:00<?, ?it/s]"
     },
     "metadata": {
      "transient": {}
     },
     "output_type": "display_data"
    },
    {
     "data": {
      "text/plain": "Sequential(\n  (0): TorchQuanvLayer(\n    (qnode): <Quantum Torch Layer: func=parameterised_qnode>\n  )\n  (1): TorchQuanvLayer(\n    (qnode): <Quantum Torch Layer: func=parameterised_qnode>\n  )\n  (2): Flatten(start_dim=1, end_dim=-1)\n  (3): Linear(in_features=784, out_features=10, bias=True)\n)"
     },
     "execution_count": 10,
     "metadata": {},
     "output_type": "execute_result"
    }
   ],
   "source": [
    "run_experiment(model, optimiser, loss_function)"
   ]
  },
  {
   "cell_type": "code",
   "execution_count": null,
   "metadata": {},
   "outputs": [],
   "source": []
  },
  {
   "cell_type": "code",
   "execution_count": null,
   "metadata": {},
   "outputs": [],
   "source": []
  }
 ],
 "metadata": {
  "kernelspec": {
   "display_name": "Python 3.8.6 64-bit ('arm38': conda)",
   "language": "python",
   "name": "python38664bitarm38condaef9f8195529545ba983424a772cbe99c"
  },
  "language_info": {
   "codemirror_mode": {
    "name": "ipython",
    "version": 3
   },
   "file_extension": ".py",
   "mimetype": "text/x-python",
   "name": "python",
   "nbconvert_exporter": "python",
   "pygments_lexer": "ipython3",
   "version": "3.8.6"
  }
 },
 "nbformat": 4,
 "nbformat_minor": 5
}